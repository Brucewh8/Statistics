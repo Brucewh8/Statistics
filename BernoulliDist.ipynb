{
 "cells": [
  {
   "cell_type": "markdown",
   "id": "together-prize",
   "metadata": {},
   "source": [
    "在一次全民对总统偏爱度的调查中，表示喜欢的比例为60%，不喜欢的比例为40%"
   ]
  },
  {
   "cell_type": "code",
   "execution_count": 22,
   "id": "liberal-membership",
   "metadata": {},
   "outputs": [],
   "source": [
    "import random\n",
    "import numpy as np\n",
    "import matplotlib.pyplot as plt"
   ]
  },
  {
   "cell_type": "code",
   "execution_count": 23,
   "id": "serious-fairy",
   "metadata": {},
   "outputs": [],
   "source": [
    "p_fav=0.6\n",
    "b={'0':0.4, '1':0.6}"
   ]
  },
  {
   "cell_type": "code",
   "execution_count": 42,
   "id": "coordinated-economy",
   "metadata": {},
   "outputs": [
    {
     "data": {
      "image/png": "[encoded data removed]",
      "text/plain": [
       "<Figure size 432x288 with 1 Axes>"
      ]
     },
     "metadata": {
      "needs_background": "light"
     },
     "output_type": "display_data"
    }
   ],
   "source": [
    "fig=plt.figure(figsize=(6,4))\n",
    "ax1=fig.add_subplot(1,1,1)\n",
    "ax1.bar(b.keys(), b.values(), width=0.3)\n",
    "ax1.set_title(u\"Bernoulli Distribution, p=0.6\")\n",
    "plt.show()"
   ]
  },
  {
   "cell_type": "code",
   "execution_count": 31,
   "id": "annual-ferry",
   "metadata": {},
   "outputs": [],
   "source": [
    "#模拟生成伯努利分布随机数\n",
    "s=np.random.binomial(1, 0.6, 10000)"
   ]
  },
  {
   "cell_type": "code",
   "execution_count": 34,
   "id": "statistical-ghana",
   "metadata": {},
   "outputs": [
    {
     "data": {
      "image/png": "[encoded data removed]",
      "text/plain": [
       "<Figure size 432x288 with 1 Axes>"
      ]
     },
     "metadata": {
      "needs_background": "light"
     },
     "output_type": "display_data"
    }
   ],
   "source": [
    "bins = np.arange(3)\n",
    "plt.hist(s, bins, histtype='bar', rwidth=0.3, align='left', density=True)\n",
    "plt.xticks([0,1])\n",
    "plt.show()"
   ]
  },
  {
   "cell_type": "markdown",
   "id": "useful-prior",
   "metadata": {},
   "source": [
    "伯努利分布的均值µ=p，方差σ^2=p(1-p)，标准差σ=np.sqrt(p(1-p))"
   ]
  },
  {
   "cell_type": "code",
   "execution_count": 39,
   "id": "lonely-dominican",
   "metadata": {},
   "outputs": [
    {
     "name": "stdout",
     "output_type": "stream",
     "text": [
      "mean=0.6 varivance=0.24 standard deviation=0.4898979485566356\n"
     ]
    }
   ],
   "source": [
    "mean=p_fav\n",
    "var=p_fav*(1-p_fav)\n",
    "sd=np.sqrt(p_fav*(1-p_fav))\n",
    "print(\"mean=\"+str(mean), \"varivance=\"+str(var), \"standard deviation=\"+str(sd))"
   ]
  },
  {
   "cell_type": "code",
   "execution_count": null,
   "id": "excess-credit",
   "metadata": {},
   "outputs": [],
   "source": []
  }
 ],
 "metadata": {
  "kernelspec": {
   "display_name": "Python 3",
   "language": "python",
   "name": "python3"
  },
  "language_info": {
   "codemirror_mode": {
    "name": "ipython",
    "version": 3
   },
   "file_extension": ".py",
   "mimetype": "text/x-python",
   "name": "python",
   "nbconvert_exporter": "python",
   "pygments_lexer": "ipython3",
   "version": "3.8.5"
  }
 },
 "nbformat": 4,
 "nbformat_minor": 5
}
