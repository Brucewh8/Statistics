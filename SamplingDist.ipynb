{
 "metadata": {
  "language_info": {
   "codemirror_mode": {
    "name": "ipython",
    "version": 3
   },
   "file_extension": ".py",
   "mimetype": "text/x-python",
   "name": "python",
   "nbconvert_exporter": "python",
   "pygments_lexer": "ipython3",
   "version": "3.8.5-final"
  },
  "orig_nbformat": 2,
  "kernelspec": {
   "name": "python3",
   "display_name": "Python 3",
   "language": "python"
  }
 },
 "nbformat": 4,
 "nbformat_minor": 2,
 "cells": [
  {
   "source": [
    "\n",
    "# 样本均值抽样分布\n",
    "\n",
    "## 中心极限定理\n",
    "\n",
    "在适当的条件下，大量相互独立随机变量的均值经适当标准化后依分布收敛于正态分布。\n",
    "\n",
    "https://zh.wikipedia.org/wiki/%E4%B8%AD%E5%BF%83%E6%9E%81%E9%99%90%E5%AE%9A%E7%90%86\n",
    "\n",
    "## 样本均值抽样分布的均值\n",
    "\n",
    "$$\\mu_{\\overline{X}}=\\mu$$\n",
    "\n",
    "其中，$\\mu$为原分布的总体均值\n",
    "\n",
    "## 均值标准差\n",
    "\n",
    "样本均值抽样分布的标准差通常称为均值标准差，其公式为：\n",
    "\n",
    "$$\\sigma_{\\overline{X}}=\\cfrac{\\sigma}{\\sqrt{n}}$$\n",
    "\n",
    "其中，$\\sigma$为原分布方差，$n$为样本容量\n"
   ],
   "cell_type": "markdown",
   "metadata": {}
  },
  {
   "source": [
    "## 例题1\n",
    "\n",
    "男性在户外活动平均饮水量为2L，标准差为0.7L。组织一次50名男性参加的户外活动，准备110L水，不够用的概率是多少？"
   ],
   "cell_type": "markdown",
   "metadata": {}
  },
  {
   "cell_type": "code",
   "execution_count": 4,
   "metadata": {},
   "outputs": [],
   "source": [
    "import numpy as np\n",
    "from scipy import stats"
   ]
  },
  {
   "cell_type": "code",
   "execution_count": 5,
   "metadata": {},
   "outputs": [
    {
     "output_type": "stream",
     "name": "stdout",
     "text": [
      "110L水不够用的概率p=0.0217\n"
     ]
    }
   ],
   "source": [
    "mu=2\n",
    "sigma=0.7\n",
    "# 110L水不够用，意思是50名男性的平均饮水量大于2.2L。相当于选出50名男性的样本，样本均值大于2.2L\n",
    "# 构建一个样本容量n=50的样本均值抽样分布，mu_x为样本均值抽样分布的均值，sigma_x为均值标准差\n",
    "n=50\n",
    "mu_x=mu\n",
    "sigma_x=sigma/np.sqrt(n)\n",
    "zscore=(2.2-mu)/sigma_x\n",
    "p=1-stats.norm.cdf(zscore, 0, 1)  #借助标准正态分布计算z分数的累积概率，p=1-临界值的累积概率\n",
    "print(\"110L水不够用的概率p=\"+str(round(p, 4)))"
   ]
  },
  {
   "source": [
    "## 例题2 置信区间\n",
    "\n",
    "在农场20万个苹果中抽取36个作为样本，样本苹果重量的均值为112g，标准差为40g。20万个苹果重量的均值在100g到124g之间的概率是多少？"
   ],
   "cell_type": "markdown",
   "metadata": {}
  },
  {
   "cell_type": "code",
   "execution_count": 6,
   "metadata": {},
   "outputs": [
    {
     "output_type": "stream",
     "name": "stdout",
     "text": [
      "总体重量均值在100g到124g之间的概率p=0.9281\n"
     ]
    }
   ],
   "source": [
    "n=36\n",
    "mean_x=112\n",
    "s=40\n",
    "# 抽取36个苹果作为样本，可以构建一个样本容量n=36的样本均值抽样分布\n",
    "# 因为样本均值抽样分布的均值mu_x等于总体均值mu，要求mu在110g到124g之间的概率，相当于求mu_x在110g到124g之间的概率，刚好为已知样本均值mean_x左右12g范围内，相当于mu_x在已知样本均值mean_x左右12g范围内的概率，也就相当于已知样本均值mean_x在样本均值值抽样分布的均值mu_x左右12g范围的概率。\n",
    "# 题目没有给出总体标准差，我们可以用样本标准差近似替代总体标准差，求得均值标准差sigma_x\n",
    "sigma=s  #样本标准差近似等于总体标准差\n",
    "sigma_x=sigma/np.sqrt(n)  #计算均值标准差\n",
    "zscore_1=12/sigma_x  #计算样本均值抽样分布的均值左右12g是多少个标准差\n",
    "zscore_2=-12/sigma_x\n",
    "p=stats.norm.cdf(zscore_1, 0, 1)-stats.norm.cdf(zscore_2, 0, 1)  #借助标准正态分布计算z分数的累积概率，p=范围上限的累积概率-范围下限的累积概率\n",
    "print(\"总体重量均值在100g到124g之间的概率p=\"+str(round(p, 4)))"
   ]
  },
  {
   "cell_type": "code",
   "execution_count": null,
   "metadata": {},
   "outputs": [],
   "source": []
  }
 ]
}