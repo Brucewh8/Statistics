{
 "metadata": {
  "language_info": {
   "codemirror_mode": {
    "name": "ipython",
    "version": 3
   },
   "file_extension": ".py",
   "mimetype": "text/x-python",
   "name": "python",
   "nbconvert_exporter": "python",
   "pygments_lexer": "ipython3",
   "version": "3.8.5-final"
  },
  "orig_nbformat": 2,
  "kernelspec": {
   "name": "python3",
   "display_name": "Python 3",
   "language": "python"
  }
 },
 "nbformat": 4,
 "nbformat_minor": 2,
 "cells": [
  {
   "source": [
    "# 方差分析\n",
    "## 总平方和 SST(Sum of squares total)\n",
    "\n",
    "全部数据与总体均值之差的平方之和。它表征了观测数据总的波动程度。\n",
    "\n",
    "对于m组，每组n个数的数据，其自由度DF=m*n-1\n",
    "\n",
    "假设有这样3组数据\n",
    "Group1: \\[3, 2, 1\\]，\n",
    "Group2: \\[5, 3, 4\\]，\n",
    "Group3: \\[5, 6, 7\\]"
   ],
   "cell_type": "markdown",
   "metadata": {}
  },
  {
   "cell_type": "code",
   "execution_count": 22,
   "metadata": {},
   "outputs": [],
   "source": [
    "import numpy as np\n",
    "from scipy import stats"
   ]
  },
  {
   "cell_type": "code",
   "execution_count": 9,
   "metadata": {},
   "outputs": [],
   "source": [
    "group1=[3, 2, 1]\n",
    "group2=[5, 3, 4]\n",
    "group3=[5, 6, 7]\n",
    "total=group1+group2+group3\n",
    "m1=np.mean(group1)\n",
    "m2=np.mean(group2)\n",
    "m3=np.mean(group3)\n",
    "m=np.mean(total)"
   ]
  },
  {
   "cell_type": "code",
   "execution_count": 13,
   "metadata": {},
   "outputs": [
    {
     "output_type": "stream",
     "name": "stdout",
     "text": [
      "SST=30.0, DF=8\n"
     ]
    }
   ],
   "source": [
    "sst=0\n",
    "for i in range(len(total)):\n",
    "    sst=sst+np.square(total[i]-m)\n",
    "df=3*3-1\n",
    "print(\"SST=\"+str(sst)+\", DF=\"+str(df))"
   ]
  },
  {
   "source": [
    "## 组内平方和 SSW(Sum of squares within)\n",
    "\n",
    "全部数据与组内均值之差的平方和，它表征了观测数据组内波动程度。\n",
    "\n",
    "对于m组，每组n个数的数据，其自由度DF=m*(n-1)\n"
   ],
   "cell_type": "markdown",
   "metadata": {}
  },
  {
   "cell_type": "code",
   "execution_count": 14,
   "metadata": {},
   "outputs": [
    {
     "output_type": "stream",
     "name": "stdout",
     "text": [
      "SSW=6.0，DF=6\n"
     ]
    }
   ],
   "source": [
    "ssw1=0\n",
    "for i in range(len(group1)):\n",
    "    ssw1=ssw1+np.square(group1[i]-m1)\n",
    "ssw2=0\n",
    "for i in range(len(group2)):\n",
    "    ssw2=ssw2+np.square(group2[i]-m2)\n",
    "ssw3=0\n",
    "for i in range(len(group3)):\n",
    "    ssw3=ssw3+np.square(group3[i]-m3)\n",
    "ssw=ssw1+ssw2+ssw3\n",
    "df=3*(3-1)\n",
    "print(\"SSW=\"+str(ssw)+\"，DF=\"+str(df))"
   ]
  },
  {
   "source": [
    "## 组间平方和 SSB(Sum of squares between)\n",
    "\n",
    "全部数据的组内均值与整体均值之差的平方和，它表征了观测数据组间波动程度。\n",
    "\n",
    "对于m组数据，其自由度DF=m-1"
   ],
   "cell_type": "markdown",
   "metadata": {}
  },
  {
   "cell_type": "code",
   "execution_count": 16,
   "metadata": {},
   "outputs": [
    {
     "output_type": "stream",
     "name": "stdout",
     "text": [
      "SSB=24.0，DF=2\n"
     ]
    }
   ],
   "source": [
    "ssb=3*np.square(m1-m)+3*np.square(m2-m)+3*np.square(m3-m)\n",
    "df=3-1\n",
    "print(\"SSB=\"+str(ssb)+\"，DF=\"+str(df))"
   ]
  },
  {
   "source": [
    "## SST=SSW+SSB\n",
    "\n",
    "数据的整体波动可以描述为组内波动加上组间波动\n",
    "\n",
    "自由度也是一样，总平方和的自由度=组内平方和的自由度+组间平方和的自由度"
   ],
   "cell_type": "markdown",
   "metadata": {}
  },
  {
   "source": [
    "# F统计量假设校验\n",
    "\n",
    "假设有m组实验数据，每组中n个数，分析其波动情况\n",
    "\n",
    "F统计量：F=(SSB/(m-1))/(SSW/(m*(n-1)))\n",
    "\n",
    "如果F>1，代表更多的波动来自于组间波动；如果F<0，代表更多的波动来自于组内波动"
   ],
   "cell_type": "markdown",
   "metadata": {}
  },
  {
   "source": [
    "## 例题1\n",
    "\n",
    "针对前面的3组数据：\n",
    "\n",
    "Group1: \\[3, 2, 1\\]，\n",
    "Group2: \\[5, 3, 4\\]，\n",
    "Group3: \\[5, 6, 7\\]\n",
    "\n",
    "要检验各组均值之间是否存在差异，我们进行假设校验\n",
    "\n",
    "设置零假设H0：3组均值之间无差异；备择假设H1：3组均值之间有差异；显著性水平$\\alpha$=10%"
   ],
   "cell_type": "markdown",
   "metadata": {}
  },
  {
   "cell_type": "code",
   "execution_count": 24,
   "metadata": {},
   "outputs": [
    {
     "output_type": "stream",
     "name": "stdout",
     "text": [
      "F统计量=12.0\n"
     ]
    }
   ],
   "source": [
    "# 计算试验数据的F统计量\n",
    "f=(ssb/(3-1))/(ssw/(3*(3-1)))\n",
    "print(\"F统计量=\"+str(f))"
   ]
  },
  {
   "cell_type": "code",
   "execution_count": 23,
   "metadata": {},
   "outputs": [
    {
     "output_type": "stream",
     "name": "stdout",
     "text": [
      "满足显著性水平为10%的F统计量临界值为：3.46\n"
     ]
    }
   ],
   "source": [
    "# 本题中F统计量分子自由度DF_1=3-1=2，分母自由度DF_2=3*(3-1)=6\n",
    "# 要求显著性水平为10%，我们可以通过F分布表查询分子自由度为2，分母自由度为6，显著性水平为0.1的临界值\n",
    "f_c=stats.f.isf(0.1, 2, 6)\n",
    "print(\"满足显著性水平为10%的F统计量临界值为：\"+str(round(f_c, 2)))"
   ]
  },
  {
   "source": [
    "因为F统计量12远远大于临界值3.46，说明零假设成立时，数据值出现的可能性比显著性水平5%更低，所以我们可以拒绝零假设，而接受备择假设，认为3组数据均值之间有差异"
   ],
   "cell_type": "markdown",
   "metadata": {}
  }
 ]
}